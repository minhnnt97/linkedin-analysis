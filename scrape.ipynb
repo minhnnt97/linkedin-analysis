{
 "cells": [
  {
   "attachments": {},
   "cell_type": "markdown",
   "metadata": {},
   "source": [
    "# I. IMPORT & SET UP"
   ]
  },
  {
   "cell_type": "code",
   "execution_count": 1,
   "metadata": {},
   "outputs": [],
   "source": [
    "import pandas as pd\n",
    "import numpy as np\n",
    "import time\n",
    "from datetime import datetime\n",
    "import urllib.parse\n",
    "import os\n",
    "import re\n",
    "\n",
    "from selenium import webdriver\n",
    "from selenium.webdriver.common.keys import Keys\n",
    "from selenium.webdriver.chrome.service import Service\n",
    "from selenium.webdriver.chrome.options import Options\n",
    "from selenium.webdriver.common.by import By\n",
    "from selenium.common.exceptions import NoSuchElementException\n",
    "\n",
    "pd.set_option('max_colwidth', 800)"
   ]
  },
  {
   "cell_type": "code",
   "execution_count": 2,
   "metadata": {},
   "outputs": [],
   "source": [
    "PROJECT_DIR = os.getcwd()\n",
    "ID_DIR_NAME = 'job_id_dir'\n",
    "INFO_DIR_NAME = 'job_info_dir'"
   ]
  },
  {
   "attachments": {},
   "cell_type": "markdown",
   "metadata": {},
   "source": [
    "### 1. DRIVER FUNCTIONS"
   ]
  },
  {
   "cell_type": "code",
   "execution_count": 3,
   "metadata": {},
   "outputs": [],
   "source": [
    "DRIVER = None"
   ]
  },
  {
   "cell_type": "code",
   "execution_count": 4,
   "metadata": {},
   "outputs": [],
   "source": [
    "def start_driver():\n",
    "    global DRIVER\n",
    "    if DRIVER is None:\n",
    "        options = Options()\n",
    "        options.add_argument('--headless=new')\n",
    "        options.add_argument('--no-sandbox')\n",
    "        options.add_argument('--incognito')\n",
    "        options.add_argument('-disable-dev-shm-usage')\n",
    "\n",
    "        chromedriver_path = PROJECT_DIR + 'Chromedriver/chromedriver_mac_arm64/chromedriver'\n",
    "        service = Service(chromedriver_path)\n",
    "        DRIVER = webdriver.Chrome(service=service, options=options)\n",
    "    else:\n",
    "        print('A driver is already running. Please close current driver before starting another one.')\n",
    "\n",
    "def close_driver():\n",
    "    global DRIVER\n",
    "    if DRIVER is not None:\n",
    "        DRIVER.close()\n",
    "        DRIVER = None"
   ]
  },
  {
   "cell_type": "code",
   "execution_count": 5,
   "metadata": {},
   "outputs": [],
   "source": [
    "close_driver()"
   ]
  },
  {
   "cell_type": "code",
   "execution_count": 6,
   "metadata": {},
   "outputs": [],
   "source": [
    "start_driver()"
   ]
  },
  {
   "attachments": {},
   "cell_type": "markdown",
   "metadata": {},
   "source": [
    "### 2. URL & LOGIN SETUPS"
   ]
  },
  {
   "cell_type": "code",
   "execution_count": 7,
   "metadata": {},
   "outputs": [
    {
     "data": {
      "text/plain": [
       "'https://www.linkedin.com/jobs/search/?keywords=Data%20Scientist&location=United%20States&refresh=true'"
      ]
     },
     "execution_count": 7,
     "metadata": {},
     "output_type": "execute_result"
    }
   ],
   "source": [
    "from linkedin_scraper import actions\n",
    "\n",
    "EMAIL = \"minhnnt97@gmail.com\"\n",
    "PASSWORD = \"pazqig-higdar-nehmE6\"\n",
    "actions.login(DRIVER, EMAIL, PASSWORD) \n",
    "\n",
    "BASE_URL = \"https://www.linkedin.com/jobs/search/\"\n",
    "SEARCH_TERM = \"Data Scientist\"\n",
    "LOCATION_TERM = \"United States\"\n",
    "\n",
    "SEARCH_URL = BASE_URL + f\"?keywords={urllib.parse.quote(SEARCH_TERM)}\" + f\"&location={urllib.parse.quote(LOCATION_TERM)}&refresh=true\"\n",
    "SEARCH_URL"
   ]
  },
  {
   "attachments": {},
   "cell_type": "markdown",
   "metadata": {},
   "source": [
    "# II. FUNCTIONS"
   ]
  },
  {
   "attachments": {},
   "cell_type": "markdown",
   "metadata": {},
   "source": [
    "### 1. FUNCTIONS TO SCRAPE ALL JOB IDS ON SEARCH PAGES"
   ]
  },
  {
   "cell_type": "code",
   "execution_count": 25,
   "metadata": {},
   "outputs": [],
   "source": [
    "# Function to scrape all products from a page\n",
    "def get_all_job_ids_from_page(url, num_page=-1):\n",
    "\n",
    "    global DRIVER, SEARCH_TERM, LOCATION_TERM\n",
    "\n",
    "    job_id_scrape_time = datetime.now()\n",
    "    print(f'DATE & TIME: {job_id_scrape_time.strftime((\"%Y/%m/%d %H:%M:%S\"))}')\n",
    "    job_id_list = []      \n",
    "    DRIVER.get(url) \n",
    "    time.sleep(5) \n",
    "\n",
    "      # Count total number of pages in the search result\n",
    "    max_page = DRIVER.find_element(By.CLASS_NAME, 'jobs-search-results-list__pagination').find_element(By.TAG_NAME, 'ul').find_elements(By.TAG_NAME, 'li')[-1]\n",
    "    max_page = int(max_page.text)\n",
    "    num_page = min(max_page, num_page) if num_page>0 else max_page\n",
    "    print(f'Scraping {num_page} page(s) out of {max_page} total pages for {SEARCH_TERM} jobs search in {LOCATION_TERM}...')\n",
    "    total_err_count = 0\n",
    "\n",
    "      # Loop through num_page pages to scrape all products listed on each page\n",
    "    for p in range(1, num_page+1):\n",
    "      url = url + f'&start={(p-1)*25}'  # p=1: start=0, p=2: start = 25 ...\n",
    "      DRIVER.get(url)\n",
    "      time.sleep(3)\n",
    "      # Find all li tags that contain the job information\n",
    "      products_all = DRIVER.find_element(By.CLASS_NAME, \"jobs-search-results-list\").find_element(By.CLASS_NAME, \"scaffold-layout__list-container\").find_elements(By.CLASS_NAME, \"scaffold-layout__list-item\")\n",
    "      print(f'Found {len(products_all)} job IDs on page {p}.', end=' ')\n",
    "\n",
    "      err_count = 0\n",
    "      for product in products_all:\n",
    "          try:\n",
    "              job_id = product.get_attribute(\"data-occludable-job-id\")\n",
    "              job_id_list.append(job_id)\n",
    "          except NoSuchElementException:\n",
    "              err_count += 1\n",
    "\n",
    "      print(f'Could not scrape {err_count} jobs.')\n",
    "      total_err_count += err_count\n",
    "\n",
    "    # Remove dupes\n",
    "    job_id_list = list(set(job_id_list))\n",
    "    print(f'---> Found total {len(job_id_list)} unique jobs. Could not scrape total of {total_err_count} jobs.')\n",
    "\n",
    "    return job_id_list, job_id_scrape_time\n"
   ]
  },
  {
   "attachments": {},
   "cell_type": "markdown",
   "metadata": {},
   "source": [
    "### 2. FUNCTION TO SCRAPE INFORMATION OF EACH SINGLE JOB"
   ]
  },
  {
   "cell_type": "code",
   "execution_count": 22,
   "metadata": {},
   "outputs": [],
   "source": [
    "def get_single_job_info(job_id):\n",
    "\n",
    "    info = {\n",
    "        'Job ID': job_id,\n",
    "        'Job URL': None,\n",
    "        'Name': None,\n",
    "        'Company': None,\n",
    "        'Company Logo URL': None,\n",
    "        'Location': None,\n",
    "        'Workplace Type': None,\n",
    "        'Time Posted': None,\n",
    "        'Applicants Count': None,\n",
    "        'Job Overview': None,\n",
    "        'Company Overview': None,\n",
    "        'HR URL': None\n",
    "    }\n",
    "\n",
    "    JOB_URL = f\"https://www.linkedin.com/jobs/view/{job_id}\"\n",
    "    DRIVER.get(JOB_URL)\n",
    "    time.sleep(3)\n",
    "\n",
    "    # Job URL\n",
    "    info['Job URL'] = JOB_URL\n",
    "\n",
    "    # Job Name\n",
    "    try:\n",
    "        name = DRIVER.find_element(By.CLASS_NAME, \"jobs-unified-top-card__job-title\").get_attribute(\"innerHTML\")\n",
    "        info['Name'] = name.strip()\n",
    "    except NoSuchElementException:\n",
    "        pass\n",
    "\n",
    "    # Company\n",
    "    try:\n",
    "        company = DRIVER.find_element(By.CLASS_NAME, \"jobs-unified-top-card__company-name\").find_element(By.TAG_NAME, 'a').get_attribute(\"innerHTML\")\n",
    "        info['Company'] = company.strip()\n",
    "    except NoSuchElementException:\n",
    "        pass\n",
    "\n",
    "    # Company Logo\n",
    "    try:\n",
    "        comp_logo_url = DRIVER.find_element(By.CLASS_NAME, 'p5').find_element(By.TAG_NAME, 'img').get_attribute('src')\n",
    "        info['Company Logo URL'] = comp_logo_url.strip()\n",
    "    except NoSuchElementException:\n",
    "        pass\n",
    "\n",
    "    # Location\n",
    "    try:\n",
    "        location = DRIVER.find_element(By.CLASS_NAME, \"jobs-unified-top-card__subtitle-primary-grouping\").find_element(By.CLASS_NAME, \"jobs-unified-top-card__bullet\").get_attribute(\"innerHTML\")\n",
    "        info['Location'] = location.strip()\n",
    "    except NoSuchElementException:\n",
    "        pass\n",
    "\n",
    "    # Workplace Type\n",
    "    try:\n",
    "        work_type = DRIVER.find_element(By.CLASS_NAME, \"jobs-unified-top-card__workplace-type\").get_attribute(\"innerHTML\")\n",
    "        info['Workplace Type'] = work_type.strip()\n",
    "    except NoSuchElementException:\n",
    "        pass\n",
    "\n",
    "    # Time Posted\n",
    "    try:\n",
    "        time_posted = DRIVER.find_element(By.CLASS_NAME, \"jobs-unified-top-card__posted-date\").get_attribute(\"innerHTML\")\n",
    "        info['Time Posted'] = time_posted.strip()\n",
    "    except NoSuchElementException:\n",
    "        pass\n",
    "\n",
    "    # Applicants Count\n",
    "    try:\n",
    "        applicants = DRIVER.find_element(By.CLASS_NAME, \"jobs-unified-top-card__subtitle-secondary-grouping\").find_element(By.CLASS_NAME, \"jobs-unified-top-card__applicant-count\").get_attribute(\"innerHTML\")\n",
    "        info['Applicants Count'] = applicants.strip()\n",
    "    except NoSuchElementException:\n",
    "        try:\n",
    "            applicants = DRIVER.find_element(By.CLASS_NAME, \"jobs-unified-top-card__subtitle-secondary-grouping\").find_element(By.CLASS_NAME, \"jobs-unified-top-card__bullet\").get_attribute(\"innerHTML\")\n",
    "            info['Applicants Count'] = applicants.strip()\n",
    "        except NoSuchElementException:\n",
    "            pass\n",
    "\n",
    "    # Job & Company Insight\n",
    "    job_overview_list = ['Temporary', 'Part-time', 'Full-time', 'Internship', 'Contract', 'Entry level', 'Junior', 'Mid-Senior level', 'Associate', 'Executive', 'Director']\n",
    "    job_overview_pattern = '|'.join(job_overview_list)\n",
    "\n",
    "    try:\n",
    "        job_overview, company_overview = DRIVER.find_elements(By.CLASS_NAME, \"jobs-unified-top-card__job-insight\")[:2]\n",
    "        # use try except to find info of each column:\n",
    "        # try:\n",
    "        #     salary = job_overview.find_element(By.TAG_NAME, 'span').find_element(By.TAG_NAME, 'a').get_attribute(\"innerHTML\")\n",
    "        #     info['Salary'] = salary.strip('\\n<!-> ')\n",
    "        #     job_overview = job_overview.find_element(By.TAG_NAME, 'span').text # With salary posted\n",
    "        # except NoSuchElementException:\n",
    "        #     job_overview = job_overview.find_element(By.TAG_NAME, 'span').get_attribute(\"innerHTML\") # Without salary posted\n",
    "\n",
    "        # use .text to get all text information\n",
    "        job_overview = job_overview.find_element(By.TAG_NAME, 'span').text\n",
    "        job_overview = re.sub(r'<!--(?=.*?-->).*?-->', '', job_overview, flags=re.DOTALL) # Remove all HTML comments\n",
    "\n",
    "        company_overview = company_overview.find_element(By.TAG_NAME, 'span').text\n",
    "        company_overview = re.sub(r'<!--(?=.*?-->).*?-->', '', company_overview, flags=re.DOTALL) # Remove all HTML comments\n",
    "\n",
    "        # if found job overview pattern inside of job_overview\n",
    "        info['Job Overview'] = job_overview.strip() if re.search(job_overview_pattern, job_overview) is not None else 'Unknown'\n",
    "        \n",
    "        info['Company Overview'] = company_overview.strip()\n",
    "    except NoSuchElementException:\n",
    "        pass\n",
    "\n",
    "    # HR URL\n",
    "    try:\n",
    "        hr_url = DRIVER.find_element(By.CSS_SELECTOR, \"div[class*='hirer-card__hirer-information'] a\").get_attribute('href')\n",
    "        info['HR URL'] = hr_url.strip()\n",
    "    except NoSuchElementException:\n",
    "        pass\n",
    "\n",
    "    # Job details\n",
    "    try:\n",
    "        job_details = DRIVER.find_element(By.ID, 'job-details').find_element(By.TAG_NAME, 'span').text\n",
    "        job_details = re.sub(r'<!--(?=.*?-->).*?-->', '', job_details, flags=re.DOTALL) # Remove all HTML comments\n",
    "        info['Job Details'] = job_details.strip()\n",
    "    except NoSuchElementException:\n",
    "        pass\n",
    "\n",
    "    return info\n"
   ]
  },
  {
   "attachments": {},
   "cell_type": "markdown",
   "metadata": {},
   "source": [
    "### 3. TEST JOB IDS"
   ]
  },
  {
   "cell_type": "code",
   "execution_count": 19,
   "metadata": {},
   "outputs": [
    {
     "data": {
      "text/plain": [
       "{'Job ID': 3525179725,\n",
       " 'Job URL': 'https://www.linkedin.com/jobs/view/3525179725',\n",
       " 'Name': 'AI Research Engineer- Remote',\n",
       " 'Company': 'Neo Cybernetica',\n",
       " 'Company Logo URL': 'https://media.licdn.com/dms/image/C560BAQFdt_fuOIJ5TQ/company-logo_100_100/0/1644369586489?e=1688601600&v=beta&t=QyxXmGwyZyxqfDP7SiKcGuUJGrnmgnsnpdG5FbV-ESw',\n",
       " 'Location': 'Bedford, NH',\n",
       " 'Workplace Type': 'Remote',\n",
       " 'Time Posted': '3 weeks ago',\n",
       " 'Applicants Count': '81 applicants',\n",
       " 'Job Overview': 'Unknown',\n",
       " 'Company Overview': 'See how you compare to 81 applicants. Try Premium for free',\n",
       " 'HR URL': None,\n",
       " 'Job Details': 'About Us\\n\\nWe are a next-gen cybernetics start-up backed by a few top-tier investors (led by NEA).\\n\\nOur R&D blends robotics, machine learning, and high-fidelity simulation. We aim to push the boundaries of what intelligent systems are capable of achieving both autonomously and in collaboration with humans.\\n\\nBefore starting Neo Cybernetica, our CEO founded the unicorn AI company DataRobot and led for almost a decade while working directly with worldwide customers across many industries.\\n\\nYou can expect to be part of something exciting at the contour of human knowledge.\\n\\n\\nAs an AI Research Engineer, you will apply cutting edge research in AI/Robotics to solve real world problems. Your primary responsibility will be to design and implement algorithms for creating world models. You will have plenty of opportunities to apply tools in new and unique ways or design new algorithms as needed. In this role, you will work directly on the core technology of our company. You will have opportunities to see the results of your work both in real and virtual worlds.\\n\\n\\nYou are a self-motivated individual with a strong sense of ownership, urgency, and resiliency.\\n\\n\\n\\n\\n\\nA way to stand out from the crowd is to have a well-thought-out position on the topic:\\n\\n“What are the major limitations of AI systems today and what are the practical ways to combat them?”\\n\\n\\n\\nWe are an equal opportunity employer and value diversity at our company. We do not discriminate on the basis of race, religion, color, national origin, gender, sexual orientation, age, marital status, veteran status, or disability status.'}"
      ]
     },
     "execution_count": 19,
     "metadata": {},
     "output_type": "execute_result"
    }
   ],
   "source": [
    "test_info = get_single_job_info(3525179725) \n",
    "test_info"
   ]
  },
  {
   "cell_type": "code",
   "execution_count": 20,
   "metadata": {},
   "outputs": [
    {
     "data": {
      "text/plain": [
       "{'Job ID': 3527055540,\n",
       " 'Job URL': 'https://www.linkedin.com/jobs/view/3527055540',\n",
       " 'Name': 'Data Analyst',\n",
       " 'Company': 'Fenway Health',\n",
       " 'Company Logo URL': 'https://media.licdn.com/dms/image/C4D0BAQFA0rlVxLg0HA/company-logo_100_100/0/1519856202235?e=1688601600&v=beta&t=RbwZT1Nr218rM1CX3vxqV7L3_VY2xfsUCZy2ieT0rMM',\n",
       " 'Location': 'Boston, MA',\n",
       " 'Workplace Type': 'On-site',\n",
       " 'Time Posted': '2 weeks ago',\n",
       " 'Applicants Count': '163 applicants',\n",
       " 'Job Overview': 'Part-time · Entry level',\n",
       " 'Company Overview': '201-500 employees · Hospitals and Health Care',\n",
       " 'HR URL': None,\n",
       " 'Job Details': 'Reporting to the Director of Data Analytics, the Data Analyst I accurately provides data management support, data analyses, and data visualizations to internal and external stakeholders.\\n\\nRepresentative Duties\\n\\nQueries, analyzes, visualizes, and interprets data and serves as a content expert on existing data sources and data reporting tools'}"
      ]
     },
     "execution_count": 20,
     "metadata": {},
     "output_type": "execute_result"
    }
   ],
   "source": [
    "test_info = get_single_job_info(3527055540)\n",
    "test_info"
   ]
  },
  {
   "cell_type": "code",
   "execution_count": 23,
   "metadata": {},
   "outputs": [
    {
     "data": {
      "text/plain": [
       "{'Job ID': 3551940981,\n",
       " 'Job URL': 'https://www.linkedin.com/jobs/view/3551940981',\n",
       " 'Name': 'Data Analyst',\n",
       " 'Company': 'Harvard University',\n",
       " 'Company Logo URL': 'https://media.licdn.com/dms/image/C4E0BAQF5t62bcL0e9g/company-logo_100_100/0/1519855919126?e=1688601600&v=beta&t=pAF1AvNhhJet9rY9oA43thyAPwGffcV8N7kQ644qj1k',\n",
       " 'Location': 'Harvard, MA',\n",
       " 'Workplace Type': 'On-site',\n",
       " 'Time Posted': '1 day ago',\n",
       " 'Applicants Count': '34 applicants',\n",
       " 'Job Overview': 'Temporary · Entry level',\n",
       " 'Company Overview': '10,001+ employees · Higher Education',\n",
       " 'HR URL': None,\n",
       " 'Job Details': 'About the job\\nThis job is sourced from a job board. Learn more\\n61864BRAuto req ID:61864BRJob Code:I0857P IT Business Analysis Prfss III Department Office Location:USA - MA - Cambridge Business Title:Data AnalystSub-Unit:Division of Continuing Education Salary Grade (https://hr.harvard.edu/salary-ranges#ranges) :057Time Status:Full-time Union:00 - Non Union, Exempt or Temporary Additional Qualifications and Skills:\\n\\n\\n\\nThe Faculty of Arts and Sciences will not provide visa sponsorship for this position.\\n\\nA cover letter is highly encouraged for consideration.\\n\\nThe Division of Continuing Education (DCE) comprises several entities serving about 30,000 students annually. The Harvard Extension School, the Harvard Summer School, the Harvard Professional Development Programs and the Harvard Institute for Learning in Retirement allow Harvard to serve the learning needs of students across their life. For more than a century, Harvard Extension School has made Harvard faculty and teaching accessible to a diverse community of local, national, and international students. Harvard Extension School enrolls approximately 17,000 students per year in approximately 46 graduate and undergraduate liberal arts and professional fields. More than 1,500 open enrollment courses are offered year-round with over 600 available online are offered at affordable prices to our communities across the world. Harvard Summer School offers approximately 450 courses on the Harvard Campus to 11,000 secondary school, college and adult learners and more than 30 international study abroad programs for up to 600 students each summer. The Division also includes the Harvard Institute for Learning in Retirement with approximately 550 active members and Harvard Professional Development Programs offering nearly 100 short noncredit programs to more than 3,000 participants annually.\\n\\nAll formal offers will be made by FAS Human Resources.\\n\\nDepartment:Division of Continuing EducationPre-Employment Screening:Identity Schedule:Monday-Friday, 9-5pmJob Function:Information Technology School/Unit:Faculty of Arts and Sciences EEO Statement:We are an equal opportunity employer and all qualified applicants will receive consideration for employment without regard to race, color, religion, sex, national origin, disability status, protected veteran status, gender identity, sexual orientation, pregnancy and pregnancy-related conditions, or any other characteristic protected by law.Basic Qualifications:\\n\\n\\n\\n\\n\\nThe University requires all Harvard community members to be fully vaccinated against COVID-19 and remain up to date with COVID-19 vaccine boosters, as detailed in Harvard\\'s Vaccine & Booster Requirements (https://www.harvard.edu/coronavirus/covid-19-vaccine-information/) . Individuals may claim exemption from the vaccine requirement for medical or religious reasons. More information regarding the University\\'s COVID vaccination requirement, exemptions, and verification of vaccination status may be found at the University\\'s \"COVID-19 Vaccine Information\" webpage: http://www.harvard.edu/coronavirus/covid-19-vaccine-information/.\\n\\nThis position will be based in Cambridge, MA. DCE is currently trialing hybrid workplace models with a minimum of 2 days per week on campus. DCE may adjust these as necessary or appropriate.\\n\\n\\nThe Data Analyst will work closely with a wide range of administrative staff to think proactively and strategically about how to use data to achieve organizational goals and objectives. The Data Analyst will develop management dashboards and reports that use statistical methods to draw conclusions from institutional data and facilitate data driven decision making. Data Analyst will analyze both external and internal quantitative and qualitative data to inform decision making on topics such as student services, enrollment management, curriculum, and program development.\\n\\n\\n\\nCommitment to Equity, Diversity, Inclusion, and Belonging:Harvard University views equity, diversity, inclusion, and belonging as the pathway to achieving inclusive excellence and fostering a campus culture where everyone can thrive. We strive to create a community that draws upon the widest possible pool of talent to unify excellence and diversity while fully embracing individuals from varied backgrounds, cultures, races, identities, life experiences, perspectives, beliefs, and values.Benefits:We invite you to visit Harvard\\'s Total Rewards website ( https://hr.harvard.edu/totalrewards) to learn more about our outstanding benefits package, which may include:\\n\\n\\nWork Format:Hybrid (partially on-site, partially remote)'}"
      ]
     },
     "execution_count": 23,
     "metadata": {},
     "output_type": "execute_result"
    }
   ],
   "source": [
    "test_info = get_single_job_info(3551940981) # without .find_element(By.TAG_NAME, 'span') --> scrape partial job detail (text in ul is not scraped)\n",
    "test_info"
   ]
  },
  {
   "cell_type": "code",
   "execution_count": 21,
   "metadata": {},
   "outputs": [
    {
     "data": {
      "text/plain": [
       "{'Job ID': 3551940981,\n",
       " 'Job URL': 'https://www.linkedin.com/jobs/view/3551940981',\n",
       " 'Name': 'Data Analyst',\n",
       " 'Company': 'Harvard University',\n",
       " 'Company Logo URL': 'https://media.licdn.com/dms/image/C4E0BAQF5t62bcL0e9g/company-logo_100_100/0/1519855919126?e=1688601600&v=beta&t=pAF1AvNhhJet9rY9oA43thyAPwGffcV8N7kQ644qj1k',\n",
       " 'Location': 'Harvard, MA',\n",
       " 'Workplace Type': 'On-site',\n",
       " 'Time Posted': '1 day ago',\n",
       " 'Applicants Count': '34 applicants',\n",
       " 'Job Overview': 'Temporary · Entry level',\n",
       " 'Company Overview': '10,001+ employees · Higher Education',\n",
       " 'HR URL': None,\n",
       " 'Job Details': 'This job is sourced from a job board. Learn more'}"
      ]
     },
     "execution_count": 21,
     "metadata": {},
     "output_type": "execute_result"
    }
   ],
   "source": [
    "test_info = get_single_job_info(3551940981)  # with .find_element(By.TAG_NAME, 'span')\n",
    "test_info"
   ]
  },
  {
   "attachments": {},
   "cell_type": "markdown",
   "metadata": {},
   "source": [
    "# III. START SCRAPING"
   ]
  },
  {
   "attachments": {},
   "cell_type": "markdown",
   "metadata": {},
   "source": [
    "### 1. GET ALL JOB IDS INTO A LIST"
   ]
  },
  {
   "cell_type": "code",
   "execution_count": 26,
   "metadata": {},
   "outputs": [
    {
     "name": "stdout",
     "output_type": "stream",
     "text": [
      "DATE & TIME: 2023/04/03 22:11:49\n",
      "Scraping 40 page(s) out of 40 total pages for Data Scientist jobs search in United States...\n",
      "Found 25 job IDs on page 1. Could not scrape 0 jobs.\n",
      "Found 25 job IDs on page 2. Could not scrape 0 jobs.\n",
      "Found 25 job IDs on page 3. Could not scrape 0 jobs.\n",
      "Found 25 job IDs on page 4. Could not scrape 0 jobs.\n",
      "Found 25 job IDs on page 5. Could not scrape 0 jobs.\n",
      "Found 25 job IDs on page 6. Could not scrape 0 jobs.\n",
      "Found 25 job IDs on page 7. Could not scrape 0 jobs.\n",
      "Found 25 job IDs on page 8. Could not scrape 0 jobs.\n",
      "Found 25 job IDs on page 9. Could not scrape 0 jobs.\n",
      "Found 25 job IDs on page 10. Could not scrape 0 jobs.\n",
      "Found 25 job IDs on page 11. Could not scrape 0 jobs.\n",
      "Found 25 job IDs on page 12. Could not scrape 0 jobs.\n",
      "Found 25 job IDs on page 13. Could not scrape 0 jobs.\n",
      "Found 25 job IDs on page 14. Could not scrape 0 jobs.\n",
      "Found 25 job IDs on page 15. Could not scrape 0 jobs.\n",
      "Found 25 job IDs on page 16. Could not scrape 0 jobs.\n",
      "Found 25 job IDs on page 17. Could not scrape 0 jobs.\n",
      "Found 25 job IDs on page 18. Could not scrape 0 jobs.\n",
      "Found 25 job IDs on page 19. Could not scrape 0 jobs.\n",
      "Found 25 job IDs on page 20. Could not scrape 0 jobs.\n",
      "Found 25 job IDs on page 21. Could not scrape 0 jobs.\n",
      "Found 25 job IDs on page 22. Could not scrape 0 jobs.\n",
      "Found 25 job IDs on page 23. Could not scrape 0 jobs.\n",
      "Found 25 job IDs on page 24. Could not scrape 0 jobs.\n",
      "Found 25 job IDs on page 25. Could not scrape 0 jobs.\n",
      "Found 25 job IDs on page 26. Could not scrape 0 jobs.\n",
      "Found 25 job IDs on page 27. Could not scrape 0 jobs.\n",
      "Found 25 job IDs on page 28. Could not scrape 0 jobs.\n",
      "Found 25 job IDs on page 29. Could not scrape 0 jobs.\n",
      "Found 25 job IDs on page 30. Could not scrape 0 jobs.\n",
      "Found 25 job IDs on page 31. Could not scrape 0 jobs.\n",
      "Found 25 job IDs on page 32. Could not scrape 0 jobs.\n",
      "Found 25 job IDs on page 33. Could not scrape 0 jobs.\n",
      "Found 25 job IDs on page 34. Could not scrape 0 jobs.\n",
      "Found 25 job IDs on page 35. Could not scrape 0 jobs.\n",
      "Found 25 job IDs on page 36. Could not scrape 0 jobs.\n",
      "Found 25 job IDs on page 37. Could not scrape 0 jobs.\n",
      "Found 25 job IDs on page 38. Could not scrape 0 jobs.\n",
      "Found 25 job IDs on page 39. Could not scrape 0 jobs.\n",
      "Found 25 job IDs on page 40. Could not scrape 0 jobs.\n",
      "---> Found total 859 unique jobs. Could not scrape total of 0 jobs.\n"
     ]
    }
   ],
   "source": [
    "num_page = 0 # to scrape all pages: set to 0 or -1\n",
    "job_id_list, job_id_scrape_time = get_all_job_ids_from_page(SEARCH_URL, num_page=num_page)\n",
    "# job_id_list"
   ]
  },
  {
   "attachments": {},
   "cell_type": "markdown",
   "metadata": {},
   "source": [
    "### 2. WRITE LIST OF JOB IDS TO FILE"
   ]
  },
  {
   "cell_type": "code",
   "execution_count": 28,
   "metadata": {},
   "outputs": [
    {
     "name": "stdout",
     "output_type": "stream",
     "text": [
      "[2023/04/03 22:11:49] Updated job list at /Users/thule/Desktop/DSProjects/linkedin-analysis/job_id_dir/jobs_230403_221149.txt\n"
     ]
    }
   ],
   "source": [
    "file_name = f'jobs_{job_id_scrape_time.strftime(\"%y%m%d_%H%M%S\")}.txt'\n",
    "JOB_FILE_PATH = os.path.join(PROJECT_DIR, ID_DIR_NAME, file_name)\n",
    "print(f'[{job_id_scrape_time.strftime(r\"%Y/%m/%d %H:%M:%S\")}] Updated job list at {JOB_FILE_PATH}')\n",
    "\n",
    "# Write file to folder\n",
    "with open(JOB_FILE_PATH, 'w+') as f:\n",
    "    for job_id in job_id_list:\n",
    "        f.write(f'{job_id}\\n')"
   ]
  },
  {
   "attachments": {},
   "cell_type": "markdown",
   "metadata": {},
   "source": [
    "###  3. LOAD MOST RECENT JOB IDS FILE"
   ]
  },
  {
   "cell_type": "code",
   "execution_count": null,
   "metadata": {},
   "outputs": [],
   "source": [
    "# Get most recent id file\n",
    "JOB_FILE_PATH = os.path.join(PROJECT_DIR, ID_DIR_NAME, sorted(os.listdir(os.path.join(PROJECT_DIR, ID_DIR_NAME)))[-1])\n",
    "\n",
    "with open(JOB_FILE_PATH, 'r') as f:\n",
    "    job_id_list = [l.strip() for l in f.readlines()]"
   ]
  },
  {
   "attachments": {},
   "cell_type": "markdown",
   "metadata": {},
   "source": [
    "### 4. GET INFORMATION FROM ALL JOB PAGES"
   ]
  },
  {
   "cell_type": "code",
   "execution_count": null,
   "metadata": {},
   "outputs": [],
   "source": [
    "from tqdm.notebook import tqdm\n",
    "\n",
    "job_info_list = []\n",
    "\n",
    "for job_id in tqdm(job_id_list):\n",
    "    try:\n",
    "        job_info = get_single_job_info(job_id)\n",
    "        job_info_list.append(job_info)\n",
    "    except Exception as e:\n",
    "        print(e)\n",
    "\n",
    "job_info_list[:3]"
   ]
  },
  {
   "cell_type": "code",
   "execution_count": 34,
   "metadata": {},
   "outputs": [
    {
     "data": {
      "text/html": [
       "<div>\n",
       "<style scoped>\n",
       "    .dataframe tbody tr th:only-of-type {\n",
       "        vertical-align: middle;\n",
       "    }\n",
       "\n",
       "    .dataframe tbody tr th {\n",
       "        vertical-align: top;\n",
       "    }\n",
       "\n",
       "    .dataframe thead th {\n",
       "        text-align: right;\n",
       "    }\n",
       "</style>\n",
       "<table border=\"1\" class=\"dataframe\">\n",
       "  <thead>\n",
       "    <tr style=\"text-align: right;\">\n",
       "      <th></th>\n",
       "      <th>Job ID</th>\n",
       "      <th>Job URL</th>\n",
       "      <th>Name</th>\n",
       "      <th>Company</th>\n",
       "      <th>Company Logo URL</th>\n",
       "      <th>Location</th>\n",
       "      <th>Workplace Type</th>\n",
       "      <th>Time Posted</th>\n",
       "      <th>Applicants Count</th>\n",
       "      <th>Job Overview</th>\n",
       "      <th>Company Overview</th>\n",
       "      <th>HR URL</th>\n",
       "      <th>Job Details</th>\n",
       "    </tr>\n",
       "  </thead>\n",
       "  <tbody>\n",
       "    <tr>\n",
       "      <th>0</th>\n",
       "      <td>3520044004</td>\n",
       "      <td>https://www.linkedin.com/jobs/view/3520044004</td>\n",
       "      <td>Data Scientist, Research</td>\n",
       "      <td>TikTok</td>\n",
       "      <td>https://media.licdn.com/dms/image/C510BAQGCdThXIss7UQ/company-logo_100_100/0/1539940587971?e=1688601600&amp;v=beta&amp;t=VDnIrYH4vqNPMEEKoufCQND_3pgPD7hjF5uaafOJJ0A</td>\n",
       "      <td>San Jose, CA</td>\n",
       "      <td>Hybrid</td>\n",
       "      <td>2 weeks ago</td>\n",
       "      <td>Over 200 applicants</td>\n",
       "      <td>Full-time</td>\n",
       "      <td>10,001+ employees · Entertainment Providers</td>\n",
       "      <td>None</td>\n",
       "      <td>About the job\\nThe base salary range for this position in the selected city is $144,000 - $312,000 annually.\\nCompensation may vary outside of this range depending on a number of factors, including a candidate’s qualifications, skills, competencies and experience, and location. Base pay is one part of the Total Package that is provided to compensate and recognize employees for their work, and this role may be eligible for additional discretionary bonuses/incentives, and restricted stock units.</td>\n",
       "    </tr>\n",
       "    <tr>\n",
       "      <th>1</th>\n",
       "      <td>3523743282</td>\n",
       "      <td>https://www.linkedin.com/jobs/view/3523743282</td>\n",
       "      <td>Global Data Scientist</td>\n",
       "      <td>Kimberly-Clark</td>\n",
       "      <td>https://media.licdn.com/dms/image/C560BAQFahtjOdf_ETQ/company-logo_100_100/0/1542208571146?e=1688601600&amp;v=beta&amp;t=rlQc0Ii5WlMa8xcJ2w0YEEsfNoCgzxcGbQbRCdyoHRA</td>\n",
       "      <td>United States</td>\n",
       "      <td>Remote</td>\n",
       "      <td>2 weeks ago</td>\n",
       "      <td>Over 200 applicants</td>\n",
       "      <td>Full-time · Mid-Senior level</td>\n",
       "      <td>10,001+ employees · Manufacturing</td>\n",
       "      <td>None</td>\n",
       "      <td>About the job\\nYou’re not the person who will settle for just any role. Neither are we. Because we’re out to create Better Care for a Better World, and that takes a certain kind of person and teams who care about making a difference. Here, you’ll bring your professional expertise, talent, and drive to building and managing our portfolio of iconic, ground-breaking brands. In your Global Data Scientist role, you’ll help us deliver better care for billions of people around the world.</td>\n",
       "    </tr>\n",
       "    <tr>\n",
       "      <th>2</th>\n",
       "      <td>3520459813</td>\n",
       "      <td>https://www.linkedin.com/jobs/view/3520459813</td>\n",
       "      <td>Data Analytics Intern (Summer 2023)</td>\n",
       "      <td>Industry Dive</td>\n",
       "      <td>https://media.licdn.com/dms/image/C4E0BAQEAkpLAgFUtpA/company-logo_100_100/0/1520994058492?e=1688601600&amp;v=beta&amp;t=WeD5R9M5oQN332HPtTYdnSGcA8_yOivDYu13ypB1uhM</td>\n",
       "      <td>Washington, DC</td>\n",
       "      <td>Remote</td>\n",
       "      <td>None</td>\n",
       "      <td>None</td>\n",
       "      <td>$16/hr - $21/hr (from job description) · Internship · Internship</td>\n",
       "      <td>201-500 employees · Online Audio and Video Media</td>\n",
       "      <td>None</td>\n",
       "      <td>About the job\\nCompany Description\\n\\nIndustry Dive is a leading business journalism company. Nearly 13 million decision-makers across 20+ competitive industries rely on its exclusive insight and analysis delivered through 26 publications. Industry Dive was founded in 2012 to provide business leaders with the information they need to move industries forward. Our team of reporters, editors, designers, and marketers delivers insights and programs that spark innovation, fuel growth and shape agendas in every industry we cover.\\n\\n\\n\\nAre you passionate about analyzing big data to tell stories and spot trends? Do you enjoy synthesizing digital metrics such as pageviews, clicks, and user behavior into a narrative that drives decision-making and powers editorial strategy, audience growth, and product development?\\n\\nThe Data Analytics Intern will be given significant responsibilities that directly impact business strategy by digging into various datasets to highlight insights and themes that help the company better reach, understand, and speak to their readers. You’ll work alongside an experienced analyst to create dashboards that dig into web traffic, email newsletter performance, and subscriber data across 26+ industries. This is a great opportunity to get hands-on experience in data analytics, visualization, and strategy for a fast-growing digital media company.\\n\\nWe are looking for a smart, creative, and data-savy undergraduate student to complete a summer internship within the marketing data team specifically focused on web traffic and subscriber analytics.\\n\\n\\n\\n\\n\\n\\n\\nThe salary for this internship is $16-21/hour based on experience.</td>\n",
       "    </tr>\n",
       "    <tr>\n",
       "      <th>3</th>\n",
       "      <td>3525723554</td>\n",
       "      <td>https://www.linkedin.com/jobs/view/3525723554</td>\n",
       "      <td>Data Scientist Solution Specialist- IT Internship</td>\n",
       "      <td>Waters Corporation</td>\n",
       "      <td>https://media.licdn.com/dms/image/C560BAQHFDhBFVWfhzg/company-logo_100_100/0/1656651227123?e=1688601600&amp;v=beta&amp;t=EZyQTqSg2K6YVQI4NzPP73QdGTMXzZEtaWzGK7cjLvI</td>\n",
       "      <td>Milford, MA</td>\n",
       "      <td>On-site</td>\n",
       "      <td>1 week ago</td>\n",
       "      <td>Over 200 applicants</td>\n",
       "      <td>Internship · Internship</td>\n",
       "      <td>5,001-10,000 employees · Biotechnology Research</td>\n",
       "      <td>None</td>\n",
       "      <td>About the job\\nOverview\\n\\nAn internship within the Information Technology (IT) department of Waters Technology Corporation provides an opportunity for current undergraduate and graduate students to gain training, real-world experience and mentorship by working with industry professionals on high priority initiatives. In this paid and full-time internship, you will help to shape the future of the company and its technology transformation. You will learn about our company’s market, products and culture while driving and participating within IT projects/programs that support business objectives and our overall mission. Throughout the internship, you will receive performance feedback and mentoring, build business/technical acumen and develop skills that will serve as the foundation for your professional career.\\n\\nYou will also be part of our 2023 Global Intern Program and will be invited to attend virtual Power Hour sessions, roundtables hosted by members of our Executive Committee as well as joining local events on the site you are based. This is a great opportunity to learn more about Waters and the variety of roles we offer as well as learning more about the Life Sciences industry.\\n\\nThis is a paid internship for a period of 3 months over the summer period and we will have 4 intake dates which will be communicated to you during the course of your application.\\n\\n\\n\\nDuring your internship, you will be working in the Information Technology business area based in the Milford, MA facility and completing a project that will involve:\\n\\n\\n\\n\\n\\nWe'd love to hear from you if you have:\\n\\n\\n\\n\\n\\n\\n\\nWaters Corporation (NYSE: WAT), the world's leading specialty measurement company, has pioneered chromatography, mass spectrometry and thermal analysis innovations serving the life, materials, and food sciences for more than 60 years. With more than 7,000 employees worldwide, Waters operates directly in 35 countries, including 15 manufacturing facilities, with products available in more than 100 countries. Our team focuses on creating business advantages for laboratory-dependent organizations to enable significant advancement in healthcare delivery, environmental management, food safety, and water quality.\\n\\nWorking at Waters enables our employees to unlock the potential of their careers. Our global team is driven by purpose. We strive to be better, learn and improve every day in everything we do. We’re the problem solvers and innovators that aren’t afraid to take risks to transform the world of human health and well-being. We’re all in it together delivering benefit as one to provide the insights needed today in order to solve the challenges of tomorrow.\\n\\nDiversity and inclusion are fundamental to our core values at Waters Corporation. It is our responsibility to actively implement programs and practices to drive inclusive behavior and increase diversity across the organization. We are united by diversity and thrive on it for the benefit of our employees, our products, our customers and our community. Waters is proud to be an equal opportunity workplace and is an affirmative action employer. We are committed to equal employment opportunity regardless of race, color, religion, sex, national origin, sexual orientation, age, marital status, disability, gender identity or protected Veteran status.\\n\\n\\n\\nintern, summer intern</td>\n",
       "    </tr>\n",
       "    <tr>\n",
       "      <th>4</th>\n",
       "      <td>3527821880</td>\n",
       "      <td>https://www.linkedin.com/jobs/view/3527821880</td>\n",
       "      <td>Data Engineer</td>\n",
       "      <td>Chatham Financial</td>\n",
       "      <td>https://media.licdn.com/dms/image/C4D0BAQFPJJtAqKZSKA/company-logo_100_100/0/1566565993951?e=1688601600&amp;v=beta&amp;t=ZspCbwfzbemZIQ3Si2Hh0UDFic959gFVNnlZ8r1wHRs</td>\n",
       "      <td>Kennett Square, PA</td>\n",
       "      <td>On-site</td>\n",
       "      <td>2 weeks ago</td>\n",
       "      <td>116 applicants</td>\n",
       "      <td>Full-time · Entry level</td>\n",
       "      <td>501-1,000 employees · Financial Services</td>\n",
       "      <td>None</td>\n",
       "      <td>About the job\\nOverview\\n\\nWe don’t simply hire employees. We invest in them. When you work at Chatham, we empower you — offering professional development opportunities to help you grow in your career, no matter if you've been here for five months or 15 years. Chatham has worked hard to create a distinct work environment that values people, teamwork, integrity, and client service. You will have immediate opportunities to partner with talented subject matter experts, work on complex projects, and contribute to the value Chatham delivers every day.\\n\\nData Insight Solutions team is at the forefront of Chatham’s innovation initiatives. Sitting at the nexus of product, technology, and advisory, Data Insight Solutions aims to enhance Chatham’s capacity to deliver data-driven insight to our clients. The team’s multi-disciplinary skillset, that encompasses both finance and technology with additional focus on data-driven storytelling, enables Data Insight Solutions to synthesize murky vision into crystal-clear insight on which clients can make strategic capital market decisions.\\n\\n\\n\\n\\n\\n\\n\\n\\n\\nChatham Financial delivers financial risk management advisory and technology solutions to organizations across industries and around the world by helping companies maximize value in the capital markets. At Chatham, we help businesses improve their bottom lines. But that’s not the only place we’re committed to making an impact. We look beyond our clients, too — enhancing the markets where we work, supporting the clients we partner with, helping our employees thrive, and giving back to the world at large. And when you join Chatham, you’re an integral part of this equation, enabling us to live this purpose-driven philosophy every day.</td>\n",
       "    </tr>\n",
       "  </tbody>\n",
       "</table>\n",
       "</div>"
      ],
      "text/plain": [
       "       Job ID                                        Job URL  \\\n",
       "0  3520044004  https://www.linkedin.com/jobs/view/3520044004   \n",
       "1  3523743282  https://www.linkedin.com/jobs/view/3523743282   \n",
       "2  3520459813  https://www.linkedin.com/jobs/view/3520459813   \n",
       "3  3525723554  https://www.linkedin.com/jobs/view/3525723554   \n",
       "4  3527821880  https://www.linkedin.com/jobs/view/3527821880   \n",
       "\n",
       "                                                Name             Company  \\\n",
       "0                           Data Scientist, Research              TikTok   \n",
       "1                              Global Data Scientist      Kimberly-Clark   \n",
       "2                Data Analytics Intern (Summer 2023)       Industry Dive   \n",
       "3  Data Scientist Solution Specialist- IT Internship  Waters Corporation   \n",
       "4                                      Data Engineer   Chatham Financial   \n",
       "\n",
       "                                                                                                                                               Company Logo URL  \\\n",
       "0  https://media.licdn.com/dms/image/C510BAQGCdThXIss7UQ/company-logo_100_100/0/1539940587971?e=1688601600&v=beta&t=VDnIrYH4vqNPMEEKoufCQND_3pgPD7hjF5uaafOJJ0A   \n",
       "1  https://media.licdn.com/dms/image/C560BAQFahtjOdf_ETQ/company-logo_100_100/0/1542208571146?e=1688601600&v=beta&t=rlQc0Ii5WlMa8xcJ2w0YEEsfNoCgzxcGbQbRCdyoHRA   \n",
       "2  https://media.licdn.com/dms/image/C4E0BAQEAkpLAgFUtpA/company-logo_100_100/0/1520994058492?e=1688601600&v=beta&t=WeD5R9M5oQN332HPtTYdnSGcA8_yOivDYu13ypB1uhM   \n",
       "3  https://media.licdn.com/dms/image/C560BAQHFDhBFVWfhzg/company-logo_100_100/0/1656651227123?e=1688601600&v=beta&t=EZyQTqSg2K6YVQI4NzPP73QdGTMXzZEtaWzGK7cjLvI   \n",
       "4  https://media.licdn.com/dms/image/C4D0BAQFPJJtAqKZSKA/company-logo_100_100/0/1566565993951?e=1688601600&v=beta&t=ZspCbwfzbemZIQ3Si2Hh0UDFic959gFVNnlZ8r1wHRs   \n",
       "\n",
       "             Location Workplace Type  Time Posted     Applicants Count  \\\n",
       "0        San Jose, CA         Hybrid  2 weeks ago  Over 200 applicants   \n",
       "1       United States         Remote  2 weeks ago  Over 200 applicants   \n",
       "2      Washington, DC         Remote         None                 None   \n",
       "3         Milford, MA        On-site   1 week ago  Over 200 applicants   \n",
       "4  Kennett Square, PA        On-site  2 weeks ago       116 applicants   \n",
       "\n",
       "                                                       Job Overview  \\\n",
       "0                                                         Full-time   \n",
       "1                                      Full-time · Mid-Senior level   \n",
       "2  $16/hr - $21/hr (from job description) · Internship · Internship   \n",
       "3                                           Internship · Internship   \n",
       "4                                           Full-time · Entry level   \n",
       "\n",
       "                                   Company Overview HR URL  \\\n",
       "0       10,001+ employees · Entertainment Providers   None   \n",
       "1                 10,001+ employees · Manufacturing   None   \n",
       "2  201-500 employees · Online Audio and Video Media   None   \n",
       "3   5,001-10,000 employees · Biotechnology Research   None   \n",
       "4          501-1,000 employees · Financial Services   None   \n",
       "\n",
       "                                                                                                                                                                                                                                                                                                                                                                                                                                                                                                                                                                                                                                                                                                                                                                                                                                                                                                                                                                                                                                                                                                                                                                                                                                                                                                                                                                                                                                                                                                                                                                                                                                                                                                                                                                                                                                                                                                                                                                                                                                                                                                                                                                                                                                                                                                                                                                                                                                                                                                                                                                                                                                                                                                                                                                                                                                                                                                                                                                                                                                                                                                                                                                                                                                                                                                                                                                                                                                                                                                          Job Details  \n",
       "0                                                                                                                                                                                                                                                                                                                                                                                                                                                                                                                                                                                                                                                                                                                                                                                                                                                                                                                                                                                                                                                                                                                                                                                                                                                                                                                                                                                                                                                                                                                                                                                                                                                                                                                                                                                                                                                                                                                                                                                                                                                                                                                                                                                                                                                                                                                                                                                                                                                                                                                                                                                                                                                                                                                                                                                                                                                                                                                                                                                                  About the job\\nThe base salary range for this position in the selected city is $144,000 - $312,000 annually.\\nCompensation may vary outside of this range depending on a number of factors, including a candidate’s qualifications, skills, competencies and experience, and location. Base pay is one part of the Total Package that is provided to compensate and recognize employees for their work, and this role may be eligible for additional discretionary bonuses/incentives, and restricted stock units.  \n",
       "1                                                                                                                                                                                                                                                                                                                                                                                                                                                                                                                                                                                                                                                                                                                                                                                                                                                                                                                                                                                                                                                                                                                                                                                                                                                                                                                                                                                                                                                                                                                                                                                                                                                                                                                                                                                                                                                                                                                                                                                                                                                                                                                                                                                                                                                                                                                                                                                                                                                                                                                                                                                                                                                                                                                                                                                                                                                                                                                                                                                                               About the job\\nYou’re not the person who will settle for just any role. Neither are we. Because we’re out to create Better Care for a Better World, and that takes a certain kind of person and teams who care about making a difference. Here, you’ll bring your professional expertise, talent, and drive to building and managing our portfolio of iconic, ground-breaking brands. In your Global Data Scientist role, you’ll help us deliver better care for billions of people around the world.  \n",
       "2                                                                                                                                                                                                                                                                                                                                                                                                                                                                                                                                                                                                                                                                                                                                                                                                                                                                                                                                                                                                                                                                                                                                                                                                                                                                                                                                                                                                                                                                                                                                                                                                                                                                                                                                                                                   About the job\\nCompany Description\\n\\nIndustry Dive is a leading business journalism company. Nearly 13 million decision-makers across 20+ competitive industries rely on its exclusive insight and analysis delivered through 26 publications. Industry Dive was founded in 2012 to provide business leaders with the information they need to move industries forward. Our team of reporters, editors, designers, and marketers delivers insights and programs that spark innovation, fuel growth and shape agendas in every industry we cover.\\n\\n\\n\\nAre you passionate about analyzing big data to tell stories and spot trends? Do you enjoy synthesizing digital metrics such as pageviews, clicks, and user behavior into a narrative that drives decision-making and powers editorial strategy, audience growth, and product development?\\n\\nThe Data Analytics Intern will be given significant responsibilities that directly impact business strategy by digging into various datasets to highlight insights and themes that help the company better reach, understand, and speak to their readers. You’ll work alongside an experienced analyst to create dashboards that dig into web traffic, email newsletter performance, and subscriber data across 26+ industries. This is a great opportunity to get hands-on experience in data analytics, visualization, and strategy for a fast-growing digital media company.\\n\\nWe are looking for a smart, creative, and data-savy undergraduate student to complete a summer internship within the marketing data team specifically focused on web traffic and subscriber analytics.\\n\\n\\n\\n\\n\\n\\n\\nThe salary for this internship is $16-21/hour based on experience.  \n",
       "3  About the job\\nOverview\\n\\nAn internship within the Information Technology (IT) department of Waters Technology Corporation provides an opportunity for current undergraduate and graduate students to gain training, real-world experience and mentorship by working with industry professionals on high priority initiatives. In this paid and full-time internship, you will help to shape the future of the company and its technology transformation. You will learn about our company’s market, products and culture while driving and participating within IT projects/programs that support business objectives and our overall mission. Throughout the internship, you will receive performance feedback and mentoring, build business/technical acumen and develop skills that will serve as the foundation for your professional career.\\n\\nYou will also be part of our 2023 Global Intern Program and will be invited to attend virtual Power Hour sessions, roundtables hosted by members of our Executive Committee as well as joining local events on the site you are based. This is a great opportunity to learn more about Waters and the variety of roles we offer as well as learning more about the Life Sciences industry.\\n\\nThis is a paid internship for a period of 3 months over the summer period and we will have 4 intake dates which will be communicated to you during the course of your application.\\n\\n\\n\\nDuring your internship, you will be working in the Information Technology business area based in the Milford, MA facility and completing a project that will involve:\\n\\n\\n\\n\\n\\nWe'd love to hear from you if you have:\\n\\n\\n\\n\\n\\n\\n\\nWaters Corporation (NYSE: WAT), the world's leading specialty measurement company, has pioneered chromatography, mass spectrometry and thermal analysis innovations serving the life, materials, and food sciences for more than 60 years. With more than 7,000 employees worldwide, Waters operates directly in 35 countries, including 15 manufacturing facilities, with products available in more than 100 countries. Our team focuses on creating business advantages for laboratory-dependent organizations to enable significant advancement in healthcare delivery, environmental management, food safety, and water quality.\\n\\nWorking at Waters enables our employees to unlock the potential of their careers. Our global team is driven by purpose. We strive to be better, learn and improve every day in everything we do. We’re the problem solvers and innovators that aren’t afraid to take risks to transform the world of human health and well-being. We’re all in it together delivering benefit as one to provide the insights needed today in order to solve the challenges of tomorrow.\\n\\nDiversity and inclusion are fundamental to our core values at Waters Corporation. It is our responsibility to actively implement programs and practices to drive inclusive behavior and increase diversity across the organization. We are united by diversity and thrive on it for the benefit of our employees, our products, our customers and our community. Waters is proud to be an equal opportunity workplace and is an affirmative action employer. We are committed to equal employment opportunity regardless of race, color, religion, sex, national origin, sexual orientation, age, marital status, disability, gender identity or protected Veteran status.\\n\\n\\n\\nintern, summer intern  \n",
       "4                                                                                                                                                                                                                                                                                                                                                                                                                                                                                                                                                                                                                                                                                                                                                                                                                                                                                                                                                                                                                                                                                                                                                                                                                                                                                                                                                                                                                                                                                                                                                                                                                                                                                                  About the job\\nOverview\\n\\nWe don’t simply hire employees. We invest in them. When you work at Chatham, we empower you — offering professional development opportunities to help you grow in your career, no matter if you've been here for five months or 15 years. Chatham has worked hard to create a distinct work environment that values people, teamwork, integrity, and client service. You will have immediate opportunities to partner with talented subject matter experts, work on complex projects, and contribute to the value Chatham delivers every day.\\n\\nData Insight Solutions team is at the forefront of Chatham’s innovation initiatives. Sitting at the nexus of product, technology, and advisory, Data Insight Solutions aims to enhance Chatham’s capacity to deliver data-driven insight to our clients. The team’s multi-disciplinary skillset, that encompasses both finance and technology with additional focus on data-driven storytelling, enables Data Insight Solutions to synthesize murky vision into crystal-clear insight on which clients can make strategic capital market decisions.\\n\\n\\n\\n\\n\\n\\n\\n\\n\\nChatham Financial delivers financial risk management advisory and technology solutions to organizations across industries and around the world by helping companies maximize value in the capital markets. At Chatham, we help businesses improve their bottom lines. But that’s not the only place we’re committed to making an impact. We look beyond our clients, too — enhancing the markets where we work, supporting the clients we partner with, helping our employees thrive, and giving back to the world at large. And when you join Chatham, you’re an integral part of this equation, enabling us to live this purpose-driven philosophy every day.  "
      ]
     },
     "execution_count": 34,
     "metadata": {},
     "output_type": "execute_result"
    }
   ],
   "source": [
    "job_df = pd.DataFrame(job_info_list)\n",
    "job_df.head(5)"
   ]
  },
  {
   "cell_type": "code",
   "execution_count": 35,
   "metadata": {},
   "outputs": [
    {
     "name": "stdout",
     "output_type": "stream",
     "text": [
      "<class 'pandas.core.frame.DataFrame'>\n",
      "RangeIndex: 162 entries, 0 to 161\n",
      "Data columns (total 13 columns):\n",
      " #   Column            Non-Null Count  Dtype \n",
      "---  ------            --------------  ----- \n",
      " 0   Job ID            162 non-null    object\n",
      " 1   Job URL           162 non-null    object\n",
      " 2   Name              162 non-null    object\n",
      " 3   Company           162 non-null    object\n",
      " 4   Company Logo URL  162 non-null    object\n",
      " 5   Location          162 non-null    object\n",
      " 6   Workplace Type    141 non-null    object\n",
      " 7   Time Posted       125 non-null    object\n",
      " 8   Applicants Count  125 non-null    object\n",
      " 9   Job Overview      162 non-null    object\n",
      " 10  Company Overview  162 non-null    object\n",
      " 11  HR URL            47 non-null     object\n",
      " 12  Job Details       162 non-null    object\n",
      "dtypes: object(13)\n",
      "memory usage: 16.6+ KB\n"
     ]
    }
   ],
   "source": [
    "job_df.info()"
   ]
  },
  {
   "attachments": {},
   "cell_type": "markdown",
   "metadata": {},
   "source": [
    "###  5. SAVE DATAFRAME TO CSV FILE"
   ]
  },
  {
   "cell_type": "code",
   "execution_count": 32,
   "metadata": {},
   "outputs": [],
   "source": [
    "JOB_INFO_PATH = os.path.join(PROJECT_DIR, INFO_DIR_NAME, os.path.basename(JOB_FILE_PATH)[:-3] + 'csv')\n",
    "\n",
    "job_df.to_csv(JOB_INFO_PATH, index=False)\n",
    "print(f'[{job_id_scrape_time.strftime(r\"%Y/%m/%d %H:%M:%S\")}] Updated job dir at {JOB_INFO_PATH}')"
   ]
  }
 ],
 "metadata": {
  "kernelspec": {
   "display_name": "dsenv_clone",
   "language": "python",
   "name": "python3"
  },
  "language_info": {
   "codemirror_mode": {
    "name": "ipython",
    "version": 3
   },
   "file_extension": ".py",
   "mimetype": "text/x-python",
   "name": "python",
   "nbconvert_exporter": "python",
   "pygments_lexer": "ipython3",
   "version": "3.8.12"
  },
  "orig_nbformat": 4,
  "vscode": {
   "interpreter": {
    "hash": "1154c1854b960f86887856c02d54616db5e44e4e0d099d1b79d7377f3b33dfe7"
   }
  }
 },
 "nbformat": 4,
 "nbformat_minor": 2
}
